{
 "cells": [
  {
   "cell_type": "code",
   "execution_count": 52,
   "id": "06903bc2",
   "metadata": {},
   "outputs": [],
   "source": [
    "import gym\n",
    "import numpy as np\n",
    "import pandas as pd\n",
    "import matplotlib.pyplot as plt\n",
    "import seaborn as sns\n",
    "import time\n",
    "from hiive.mdptoolbox.mdp import ValueIteration, PolicyIteration, QLearning\n",
    "def random_restart_environment(env):\n",
    "    random_state = np.random.choice(range(env.observation_space.n))\n",
    "    env.env.s = random_state\n",
    "    return random_state\n",
    "\n",
    "# suppress pandas warning\n",
    "pd.options.mode.chained_assignment = None\n",
    "\n",
    "# set seed\n",
    "np.random.seed(42)\n",
    "\n",
    "%matplotlib inline"
   ]
  },
  {
   "cell_type": "code",
   "execution_count": 53,
   "id": "9551fbde",
   "metadata": {},
   "outputs": [],
   "source": [
    "colors = {\n",
    "    b'S': 'b',\n",
    "    b'F': 'w',\n",
    "    b'H': 'k',\n",
    "    b'G': 'g'\n",
    "}\n",
    "\n",
    "directions = {\n",
    "            0: '←',\n",
    "            1: '↓',\n",
    "            2: '→',\n",
    "            3: '↑'\n",
    "}\n",
    "\n",
    "def plot_lake(env, policy=None, title='Frozen Lake'):\n",
    "    squares = env.nrow\n",
    "    fig = plt.figure(figsize=(6, 6))\n",
    "    ax = fig.add_subplot(111, xlim=(-.01, squares+0.01), ylim=(-.01, squares+0.01))\n",
    "    plt.title(title, fontsize=16, weight='bold', y=1.01)\n",
    "    for i in range(squares):\n",
    "        for j in range(squares):\n",
    "            y = squares - i - 1\n",
    "            x = j\n",
    "            p = plt.Rectangle([x, y], 1, 1, linewidth=1, edgecolor='k')\n",
    "            p.set_facecolor(colors[env.desc[i,j]])\n",
    "            ax.add_patch(p)\n",
    "            \n",
    "            if policy is not None:\n",
    "                text = ax.text(x+0.5, y+0.5, directions[policy[i, j]],\n",
    "                               horizontalalignment='center', size=25, verticalalignment='center',\n",
    "                               color='k')\n",
    "            \n",
    "    plt.axis('off')\n",
    "    \n",
    "#plot_lake(env, policy)"
   ]
  },
  {
   "cell_type": "code",
   "execution_count": 54,
   "id": "e8276e98",
   "metadata": {},
   "outputs": [],
   "source": [
    "def get_score(env, policy, episodes=1000):\n",
    "    misses = 0\n",
    "    steps_list = []\n",
    "    successes = 0  # Track the number of successful episodes\n",
    "    for episode in range(episodes):\n",
    "        observation = env.reset()\n",
    "        steps = 0\n",
    "        while True:\n",
    "            action = policy[observation]\n",
    "            observation, reward, done, _ = env.step(action)\n",
    "            steps += 1\n",
    "            if done and reward == 1:\n",
    "                steps_list.append(steps)\n",
    "                successes += 1  # Increment successful episodes count\n",
    "                break\n",
    "            elif done and reward == 0:\n",
    "                misses += 1\n",
    "                break\n",
    "    \n",
    "    if successes == 0:\n",
    "        pct_fail = 100.0  # All episodes failed\n",
    "        ave_steps = np.nan  # No successful episodes, set average steps to NaN\n",
    "        std_steps = np.nan  # No successful episodes, set standard deviation to NaN\n",
    "    else:\n",
    "        pct_fail = (misses / successes) * 100\n",
    "        ave_steps = np.mean(steps_list)\n",
    "        std_steps = np.std(steps_list)\n",
    "    \n",
    "    print('----------------------------------------------')\n",
    "    print('You took an average of {:.0f} steps to get the frisbee'.format(ave_steps))\n",
    "    print('And you fell in the hole {:.2f} % of the times'.format(pct_fail))\n",
    "    print('----------------------------------------------')\n",
    "    \n",
    "    return ave_steps, std_steps, pct_fail\n"
   ]
  },
  {
   "cell_type": "code",
   "execution_count": 55,
   "id": "d4548051",
   "metadata": {},
   "outputs": [],
   "source": [
    "# code based on:\n",
    "# https://medium.com/analytics-vidhya/solving-the-frozenlake-environment-from-openai-gym-using-value-iteration-5a078dffe438\n",
    "def get_policy(env,stateValue, lmbda=0.9):\n",
    "    policy = [0 for i in range(env.nS)]\n",
    "    for state in range(env.nS):\n",
    "        action_values = []\n",
    "        for action in range(env.nA):\n",
    "            action_value = 0\n",
    "            for i in range(len(env.P[state][action])):\n",
    "                prob, next_state, r, _ = env.P[state][action][i]\n",
    "                action_value += prob * (r + lmbda * stateValue[next_state])\n",
    "            action_values.append(action_value)\n",
    "        best_action = np.argmax(np.asarray(action_values))\n",
    "        policy[state] = best_action\n",
    "    return policy "
   ]
  },
  {
   "cell_type": "code",
   "execution_count": 56,
   "id": "d792235a",
   "metadata": {},
   "outputs": [
    {
     "data": {
      "image/png": "[encoded data removed]",
      "text/plain": [
       "<Figure size 600x600 with 1 Axes>"
      ]
     },
     "metadata": {},
     "output_type": "display_data"
    }
   ],
   "source": [
    "# Setup 4x4\n",
    "env = gym.make('FrozenLake-v1').unwrapped\n",
    "\n",
    "env.max_episode_steps=250\n",
    "rows = env.nrow\n",
    "cols = env.ncol\n",
    "T = np.zeros((4, rows*cols, rows*cols))\n",
    "R = np.zeros((4, rows*cols, rows*cols))\n",
    "\n",
    "old_state = np.inf\n",
    "\n",
    "for square in env.P:\n",
    "    for action in env.P[square]:\n",
    "        for i in range(len(env.P[square][action])):\n",
    "            new_state = env.P[square][action][i][1]\n",
    "            if new_state == old_state:\n",
    "                T[action][square][env.P[square][action][i][1]] = T[action][square][old_state] + env.P[square][action][i][0]\n",
    "                R[action][square][env.P[square][action][i][1]] = R[action][square][old_state] + env.P[square][action][i][2]\n",
    "            else:\n",
    "                T[action][square][env.P[square][action][i][1]] = env.P[square][action][i][0]\n",
    "                R[action][square][env.P[square][action][i][1]] = env.P[square][action][i][2]\n",
    "            old_state = env.P[square][action][i][1]\n",
    "            \n",
    "#print(T)\n",
    "#print(R)\n",
    "plot_lake(env)"
   ]
  },
  {
   "cell_type": "code",
   "execution_count": 57,
   "id": "a1328924",
   "metadata": {},
   "outputs": [],
   "source": [
    "def valueIteration(t, r, gammas, epsilons, showResults=False, max_iterations=100000):\n",
    "    t0 = time.time()\n",
    "    # create data structure to save off\n",
    "    columns = ['gamma', 'epsilon', 'time', 'iterations', 'reward', 'average_steps', 'steps_stddev', 'success_pct', 'policy', 'mean_rewards', 'max_rewards', 'error']\n",
    "    data = pd.DataFrame(0.0, index=np.arange(len(gammas)*len(epsilons)), columns=columns)\n",
    "    \n",
    "    print('Gamma,\\tEps,\\tTime,\\tIter,\\tReward')\n",
    "    print(80*'_')\n",
    "    \n",
    "    testNum = 0\n",
    "    for g in gammas:\n",
    "        for e in epsilons:\n",
    "            test = ValueIteration(t, r, gamma=g, epsilon=e, max_iter=max_iterations)\n",
    "            \n",
    "            runs  = test.run()\n",
    "            Time  = runs[-1]['Time']\n",
    "            iters = runs[-1]['Iteration']\n",
    "            maxR  = runs[-1]['Max V']\n",
    "            \n",
    "            max_rewards, mean_rewards, errors = [], [], []\n",
    "            for run in runs:\n",
    "                max_rewards.append(run['Max V'])\n",
    "                mean_rewards.append(run['Mean V'])\n",
    "                errors.append(run['Error'])\n",
    "            \n",
    "            policy = np.array(test.policy)\n",
    "            policy = policy.reshape(4,4)\n",
    "            \n",
    "            data['gamma'][testNum]        = g\n",
    "            data['epsilon'][testNum]      = e\n",
    "            data['time'][testNum]         = Time\n",
    "            data['iterations'][testNum]   = iters\n",
    "            data['reward'][testNum]       = maxR\n",
    "            data['mean_rewards'][testNum] = np.mean(mean_rewards) if mean_rewards else 0\n",
    "            data['max_rewards'][testNum] = max(max_rewards) if max_rewards else 0\n",
    "            data['error'][testNum] = max(errors) if errors else 0\n",
    "            data['policy'][testNum] = ','.join(map(str, list(test.policy)))\n",
    "            \n",
    "            print('%.2f,\\t%.0E,\\t%.2f,\\t%d,\\t%f' % (g, e, Time, iters, maxR))\n",
    "            \n",
    "            if showResults:\n",
    "                title = 'FrozenLake_VI_' + str(rows) + 'x' + str(cols) + '_g' + str(g) + '_e' + str(e)\n",
    "                plot_lake(env, policy, title)\n",
    "            \n",
    "            testNum = testNum + 1\n",
    "                \n",
    "    endTime = time.time() - t0\n",
    "    print(\"Time taken: %.2f\" %endTime)\n",
    "    \n",
    "    # See differences in policy\n",
    "    policies = data['policy']\n",
    "    \n",
    "    for i,p in enumerate(policies):\n",
    "        pol = list(p)[0]\n",
    "        steps, steps_stddev, failures = get_score(env, pol, showResults)\n",
    "        data['average_steps'][i] = steps\n",
    "        data['steps_stddev'][i]  = steps_stddev\n",
    "        data['success_pct'][i]   = 100-failures      \n",
    "        \n",
    "    # replace all NaN's\n",
    "    data.fillna(0, inplace=True)\n",
    "    data.head()\n",
    "        \n",
    "    return data"
   ]
  },
  {
   "cell_type": "code",
   "execution_count": 58,
   "id": "767c528a",
   "metadata": {
    "scrolled": true
   },
   "outputs": [
    {
     "name": "stdout",
     "output_type": "stream",
     "text": [
      "Gamma,\tEps,\tTime,\tIter,\tReward\n",
      "________________________________________________________________________________\n",
      "0.10,\t1E-02,\t0.00,\t1,\t0.333333\n",
      "0.10,\t1E-05,\t0.00,\t4,\t0.345235\n",
      "0.10,\t1E-08,\t0.00,\t7,\t0.345239\n",
      "0.10,\t1E-12,\t0.00,\t11,\t0.345239\n",
      "0.30,\t1E-02,\t0.00,\t3,\t0.373333\n",
      "0.30,\t1E-05,\t0.00,\t8,\t0.375101\n",
      "0.30,\t1E-08,\t0.00,\t13,\t0.375103\n",
      "0.30,\t1E-12,\t0.00,\t20,\t0.375103\n",
      "0.60,\t1E-02,\t0.00,\t6,\t0.445120\n",
      "0.60,\t1E-05,\t0.00,\t17,\t0.447647\n",
      "0.60,\t1E-08,\t0.00,\t29,\t0.447649\n",
      "0.60,\t1E-12,\t0.00,\t46,\t0.447649\n",
      "0.90,\t1E-02,\t0.00,\t26,\t0.637540\n",
      "0.90,\t1E-05,\t0.00,\t77,\t0.639019\n",
      "0.90,\t1E-08,\t0.00,\t128,\t0.639020\n",
      "0.90,\t1E-12,\t0.01,\t195,\t0.639020\n",
      "Time taken: 0.06\n",
      "----------------------------------------------\n",
      "You took an average of nan steps to get the frisbee\n",
      "And you fell in the hole 100.00 % of the times\n",
      "----------------------------------------------\n",
      "----------------------------------------------\n",
      "You took an average of nan steps to get the frisbee\n",
      "And you fell in the hole 100.00 % of the times\n",
      "----------------------------------------------\n",
      "----------------------------------------------\n",
      "You took an average of nan steps to get the frisbee\n",
      "And you fell in the hole 100.00 % of the times\n",
      "----------------------------------------------\n",
      "----------------------------------------------\n",
      "You took an average of nan steps to get the frisbee\n",
      "And you fell in the hole 100.00 % of the times\n",
      "----------------------------------------------\n",
      "----------------------------------------------\n",
      "You took an average of nan steps to get the frisbee\n",
      "And you fell in the hole 100.00 % of the times\n",
      "----------------------------------------------\n",
      "----------------------------------------------\n",
      "You took an average of nan steps to get the frisbee\n",
      "And you fell in the hole 100.00 % of the times\n",
      "----------------------------------------------\n",
      "----------------------------------------------\n",
      "You took an average of nan steps to get the frisbee\n",
      "And you fell in the hole 100.00 % of the times\n",
      "----------------------------------------------\n",
      "----------------------------------------------\n",
      "You took an average of nan steps to get the frisbee\n",
      "And you fell in the hole 100.00 % of the times\n",
      "----------------------------------------------\n",
      "----------------------------------------------\n",
      "You took an average of nan steps to get the frisbee\n",
      "And you fell in the hole 100.00 % of the times\n",
      "----------------------------------------------\n",
      "----------------------------------------------\n",
      "You took an average of nan steps to get the frisbee\n",
      "And you fell in the hole 100.00 % of the times\n",
      "----------------------------------------------\n",
      "----------------------------------------------\n",
      "You took an average of nan steps to get the frisbee\n",
      "And you fell in the hole 100.00 % of the times\n",
      "----------------------------------------------\n",
      "----------------------------------------------\n",
      "You took an average of nan steps to get the frisbee\n",
      "And you fell in the hole 100.00 % of the times\n",
      "----------------------------------------------\n",
      "----------------------------------------------\n",
      "You took an average of nan steps to get the frisbee\n",
      "And you fell in the hole 100.00 % of the times\n",
      "----------------------------------------------\n",
      "----------------------------------------------\n",
      "You took an average of nan steps to get the frisbee\n",
      "And you fell in the hole 100.00 % of the times\n",
      "----------------------------------------------\n",
      "----------------------------------------------\n",
      "You took an average of nan steps to get the frisbee\n",
      "And you fell in the hole 100.00 % of the times\n",
      "----------------------------------------------\n",
      "----------------------------------------------\n",
      "You took an average of nan steps to get the frisbee\n",
      "And you fell in the hole 100.00 % of the times\n",
      "----------------------------------------------\n"
     ]
    },
    {
     "name": "stderr",
     "output_type": "stream",
     "text": [
      "/var/folders/jt/7yzgm5mx5pvbbndt900r1s0m0000gn/T/ipykernel_25377/583246607.py:37: FutureWarning: Setting an item of incompatible dtype is deprecated and will raise in a future error of pandas. Value '0,0,0,0,0,0,0,0,0,0,0,0,0,0,1,0' has dtype incompatible with float64, please explicitly cast to a compatible dtype first.\n",
      "  data['policy'][testNum] = ','.join(map(str, list(test.policy)))\n"
     ]
    }
   ],
   "source": [
    "gammas   = [0.1, 0.3, 0.6, 0.9]\n",
    "epsilons = [1e-2, 1e-5, 1e-8, 1e-12]\n",
    "vi_data  = valueIteration(T, R, gammas, epsilons, showResults=False)\n",
    "\n",
    "interest = ['gamma', 'epsilon', 'time', 'iterations', 'reward']\n",
    "df = vi_data[interest]\n",
    "#vi_data.head()"
   ]
  },
  {
   "cell_type": "code",
   "execution_count": 59,
   "id": "f88dc1ae",
   "metadata": {},
   "outputs": [],
   "source": [
    "csv_file_path = \"results-frozenlake.csv\""
   ]
  },
  {
   "cell_type": "code",
   "execution_count": 60,
   "id": "03b330c9",
   "metadata": {},
   "outputs": [],
   "source": [
    "df.to_csv(csv_file_path, index=False)"
   ]
  },
  {
   "cell_type": "code",
   "execution_count": 62,
   "id": "bd82e9db",
   "metadata": {},
   "outputs": [
    {
     "name": "stderr",
     "output_type": "stream",
     "text": [
      "/Users/yrizvi/miniconda3/envs/ML/lib/python3.9/site-packages/seaborn/_oldcore.py:1498: FutureWarning: is_categorical_dtype is deprecated and will be removed in a future version. Use isinstance(dtype, CategoricalDtype) instead\n",
      "  if pd.api.types.is_categorical_dtype(vector):\n",
      "/Users/yrizvi/miniconda3/envs/ML/lib/python3.9/site-packages/seaborn/_oldcore.py:1498: FutureWarning: is_categorical_dtype is deprecated and will be removed in a future version. Use isinstance(dtype, CategoricalDtype) instead\n",
      "  if pd.api.types.is_categorical_dtype(vector):\n",
      "/Users/yrizvi/miniconda3/envs/ML/lib/python3.9/site-packages/seaborn/_oldcore.py:1765: FutureWarning: unique with argument that is not not a Series, Index, ExtensionArray, or np.ndarray is deprecated and will raise in a future version.\n",
      "  order = pd.unique(vector)\n",
      "/Users/yrizvi/miniconda3/envs/ML/lib/python3.9/site-packages/seaborn/_oldcore.py:1498: FutureWarning: is_categorical_dtype is deprecated and will be removed in a future version. Use isinstance(dtype, CategoricalDtype) instead\n",
      "  if pd.api.types.is_categorical_dtype(vector):\n"
     ]
    },
    {
     "data": {
      "image/png": "[encoded data removed]",
      "text/plain": [
       "<Figure size 600x400 with 1 Axes>"
      ]
     },
     "metadata": {},
     "output_type": "display_data"
    }
   ],
   "source": [
    "# Assuming you already have 'vi_data' DataFrame with the results\n",
    "\n",
    "# Extract the average number of steps for the lowest epsilon (1e-12)\n",
    "lowest_epsilon = 1e-12\n",
    "y = []\n",
    "\n",
    "for g in gammas:\n",
    "    y.append(vi_data.loc[(vi_data['gamma'] == g) & (vi_data['epsilon'] == lowest_epsilon)]['iterations'].mean())\n",
    "\n",
    "# Set the style\n",
    "sns.set(style=\"whitegrid\")\n",
    "\n",
    "# Create a bar plot\n",
    "fig = plt.figure(figsize=(6, 4))\n",
    "ax = sns.barplot(x=gammas, y=y)\n",
    "\n",
    "# Set the title and labels\n",
    "ax.set_title('Average Iterations vs. Gamma (Epsilon = 1e-12)')\n",
    "ax.set_xlabel('Gamma')\n",
    "ax.set_ylabel('Average Iterations')\n",
    "\n",
    "# Save the plot to a file\n",
    "title = 'VI_averageIterations_vs_gamma_epsilon_1e-12'\n",
    "# Show the plot\n",
    "plt.show()"
   ]
  },
  {
   "cell_type": "code",
   "execution_count": 68,
   "id": "3d04ec7d",
   "metadata": {},
   "outputs": [
    {
     "name": "stderr",
     "output_type": "stream",
     "text": [
      "/Users/yrizvi/miniconda3/envs/ML/lib/python3.9/site-packages/seaborn/_oldcore.py:1498: FutureWarning: is_categorical_dtype is deprecated and will be removed in a future version. Use isinstance(dtype, CategoricalDtype) instead\n",
      "  if pd.api.types.is_categorical_dtype(vector):\n",
      "/Users/yrizvi/miniconda3/envs/ML/lib/python3.9/site-packages/seaborn/_oldcore.py:1498: FutureWarning: is_categorical_dtype is deprecated and will be removed in a future version. Use isinstance(dtype, CategoricalDtype) instead\n",
      "  if pd.api.types.is_categorical_dtype(vector):\n",
      "/Users/yrizvi/miniconda3/envs/ML/lib/python3.9/site-packages/seaborn/_oldcore.py:1765: FutureWarning: unique with argument that is not not a Series, Index, ExtensionArray, or np.ndarray is deprecated and will raise in a future version.\n",
      "  order = pd.unique(vector)\n",
      "/Users/yrizvi/miniconda3/envs/ML/lib/python3.9/site-packages/seaborn/_oldcore.py:1498: FutureWarning: is_categorical_dtype is deprecated and will be removed in a future version. Use isinstance(dtype, CategoricalDtype) instead\n",
      "  if pd.api.types.is_categorical_dtype(vector):\n"
     ]
    },
    {
     "data": {
      "image/png": "[encoded data removed]",
      "text/plain": [
       "<Figure size 600x400 with 1 Axes>"
      ]
     },
     "metadata": {},
     "output_type": "display_data"
    }
   ],
   "source": [
    "import matplotlib.pyplot as plt\n",
    "import seaborn as sns\n",
    "\n",
    "# Extract the average number of steps for each gamma value\n",
    "x = gammas\n",
    "y = []\n",
    "for g in gammas:\n",
    "    y.append(vi_data.loc[vi_data['gamma'] == g]['mean_rewards'].mean())  # Assuming 'mean_rewards' represents average steps\n",
    "\n",
    "sns.set(style=\"whitegrid\")\n",
    "\n",
    "fig = plt.figure(figsize=(6, 4))\n",
    "ax = sns.barplot(x=x, y=y)  # Provide x and y separately as arguments\n",
    "ax.set_title('Average Steps vs. Gamma')\n",
    "ax.set_xlabel('Gamma')\n",
    "ax.set_ylabel('Average Steps')\n",
    "\n",
    "title = 'VI_averageSteps_vs_gamma'\n"
   ]
  },
  {
   "cell_type": "code",
   "execution_count": 77,
   "id": "460990b4",
   "metadata": {},
   "outputs": [
    {
     "name": "stderr",
     "output_type": "stream",
     "text": [
      "/Users/yrizvi/miniconda3/envs/ML/lib/python3.9/site-packages/seaborn/_oldcore.py:1498: FutureWarning: is_categorical_dtype is deprecated and will be removed in a future version. Use isinstance(dtype, CategoricalDtype) instead\n",
      "  if pd.api.types.is_categorical_dtype(vector):\n",
      "/Users/yrizvi/miniconda3/envs/ML/lib/python3.9/site-packages/seaborn/_oldcore.py:1498: FutureWarning: is_categorical_dtype is deprecated and will be removed in a future version. Use isinstance(dtype, CategoricalDtype) instead\n",
      "  if pd.api.types.is_categorical_dtype(vector):\n",
      "/Users/yrizvi/miniconda3/envs/ML/lib/python3.9/site-packages/seaborn/_oldcore.py:1765: FutureWarning: unique with argument that is not not a Series, Index, ExtensionArray, or np.ndarray is deprecated and will raise in a future version.\n",
      "  order = pd.unique(vector)\n",
      "/Users/yrizvi/miniconda3/envs/ML/lib/python3.9/site-packages/seaborn/_oldcore.py:1498: FutureWarning: is_categorical_dtype is deprecated and will be removed in a future version. Use isinstance(dtype, CategoricalDtype) instead\n",
      "  if pd.api.types.is_categorical_dtype(vector):\n"
     ]
    },
    {
     "data": {
      "image/png": "[encoded data removed]",
      "text/plain": [
       "<Figure size 600x400 with 1 Axes>"
      ]
     },
     "metadata": {},
     "output_type": "display_data"
    }
   ],
   "source": [
    "import matplotlib.pyplot as plt\n",
    "import seaborn as sns\n",
    "\n",
    "# Extract the success rate for each gamma value\n",
    "x = gammas\n",
    "success_rates = []\n",
    "\n",
    "for g in gammas:\n",
    "    # Calculate the success rate for the current gamma\n",
    "    num_successful_episodes = len(vi_data[(vi_data['gamma'] == g) & (vi_data['average_steps'] < float('inf'))])\n",
    "    total_episodes = len(vi_data[vi_data['gamma'] == g])\n",
    "    success_rate = (num_successful_episodes / total_episodes) * 100\n",
    "    success_rates.append(success_rate)\n",
    "\n",
    "sns.set(style=\"whitegrid\")\n",
    "\n",
    "fig = plt.figure(figsize=(6, 4))\n",
    "ax = sns.barplot(x=x, y=success_rates)\n",
    "ax.set_title('Success Rate vs. Gamma')\n",
    "ax.set_xlabel('Gamma')\n",
    "ax.set_ylabel('Success Rate (%)')\n",
    "\n",
    "title = 'VI_successRate_vs_gamma'"
   ]
  },
  {
   "cell_type": "code",
   "execution_count": null,
   "id": "7c2a6720",
   "metadata": {},
   "outputs": [],
   "source": []
  }
 ],
 "metadata": {
  "kernelspec": {
   "display_name": "Python 3 (ipykernel)",
   "language": "python",
   "name": "python3"
  },
  "language_info": {
   "codemirror_mode": {
    "name": "ipython",
    "version": 3
   },
   "file_extension": ".py",
   "mimetype": "text/x-python",
   "name": "python",
   "nbconvert_exporter": "python",
   "pygments_lexer": "ipython3",
   "version": "3.9.18"
  }
 },
 "nbformat": 4,
 "nbformat_minor": 5
}
