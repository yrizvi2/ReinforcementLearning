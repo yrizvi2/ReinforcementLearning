{
 "cells": [
  {
   "cell_type": "code",
   "execution_count": null,
   "id": "b4a5c4af",
   "metadata": {},
   "outputs": [
    {
     "name": "stderr",
     "output_type": "stream",
     "text": [
      "                                                                                \r"
     ]
    },
    {
     "name": "stdout",
     "output_type": "stream",
     "text": [
      "runtime = 7.27 seconds\n"
     ]
    }
   ],
   "source": [
    "import gym\n",
    "import pygame\n",
    "from algorithms.rl import RL\n",
    "from examples.test_env import TestEnv\n",
    "\n",
    "frozen_lake = gym.make('FrozenLake8x8-v1', render_mode=None)\n",
    "\n",
    "# Q-learning\n",
    "Q, V, pi, Q_track, pi_track = RL(frozen_lake.env).q_learning()\n",
    "\n",
    "test_scores = TestEnv.test_env(env=frozen_lake.env, render=True, user_input=False, pi=pi)"
   ]
  },
  {
   "cell_type": "code",
   "execution_count": null,
   "id": "4896a94a",
   "metadata": {},
   "outputs": [],
   "source": [
    "#grid search\n",
    "from examples.grid_search import GridSearch\n",
    "epsilon_decay = [.4, .7, .9]\n",
    "iters = [500, 5000, 50000]\n",
    "GridSearch.Q_learning_grid_search(frozen_lake.env, epsilon_decay, iters)\n",
    "\n",
    "\n",
    "#plot state values\n",
    "from examples.plots import Plots\n",
    "frozen_lake = gym.make('FrozenLake8x8-v1', render_mode=None)\n",
    "V, V_track, pi = Planner(frozen_lake.env.P).value_iteration()\n",
    "Plots.grid_values_heat_map(V, \"State Values\")"
   ]
  },
  {
   "cell_type": "code",
   "execution_count": null,
   "id": "5e1a1e23",
   "metadata": {},
   "outputs": [],
   "source": []
  }
 ],
 "metadata": {
  "kernelspec": {
   "display_name": "Python 3 (ipykernel)",
   "language": "python",
   "name": "python3"
  },
  "language_info": {
   "codemirror_mode": {
    "name": "ipython",
    "version": 3
   },
   "file_extension": ".py",
   "mimetype": "text/x-python",
   "name": "python",
   "nbconvert_exporter": "python",
   "pygments_lexer": "ipython3",
   "version": "3.9.18"
  }
 },
 "nbformat": 4,
 "nbformat_minor": 5
}
