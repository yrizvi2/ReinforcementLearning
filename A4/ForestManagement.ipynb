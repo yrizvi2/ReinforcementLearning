{
 "cells": [
  {
   "cell_type": "code",
   "execution_count": 6,
   "id": "1c0c9bc9-4c57-449d-bc36-221565ed5ed5",
   "metadata": {},
   "outputs": [
    {
     "name": "stderr",
     "output_type": "stream",
     "text": [
      "/Users/yrizvi/miniconda3/envs/gym-env/lib/python3.11/site-packages/gym/utils/passive_env_checker.py:233: DeprecationWarning: `np.bool8` is a deprecated alias for `np.bool_`.  (Deprecated NumPy 1.24)\n",
      "  if not isinstance(terminated, (bool, np.bool8)):\n"
     ]
    },
    {
     "ename": "ValueError",
     "evalue": "too many values to unpack (expected 4)",
     "output_type": "error",
     "traceback": [
      "\u001b[0;31m---------------------------------------------------------------------------\u001b[0m",
      "\u001b[0;31mValueError\u001b[0m                                Traceback (most recent call last)",
      "Cell \u001b[0;32mIn[6], line 46\u001b[0m\n\u001b[1;32m     43\u001b[0m     action \u001b[38;5;241m=\u001b[39m np\u001b[38;5;241m.\u001b[39margmax(q_table[observation])\n\u001b[1;32m     45\u001b[0m \u001b[38;5;66;03m# Take the action and observe the new state and reward\u001b[39;00m\n\u001b[0;32m---> 46\u001b[0m next_observation, reward, done, _ \u001b[38;5;241m=\u001b[39m env\u001b[38;5;241m.\u001b[39mstep(action)\n\u001b[1;32m     48\u001b[0m \u001b[38;5;66;03m# Update the Q-table\u001b[39;00m\n\u001b[1;32m     49\u001b[0m q_table[observation][action] \u001b[38;5;241m=\u001b[39m (\u001b[38;5;241m1\u001b[39m \u001b[38;5;241m-\u001b[39m alpha) \u001b[38;5;241m*\u001b[39m q_table[observation][action] \u001b[38;5;241m+\u001b[39m \\\n\u001b[1;32m     50\u001b[0m                               alpha \u001b[38;5;241m*\u001b[39m (reward \u001b[38;5;241m+\u001b[39m gamma \u001b[38;5;241m*\u001b[39m np\u001b[38;5;241m.\u001b[39mmax(q_table[next_observation]))\n",
      "\u001b[0;31mValueError\u001b[0m: too many values to unpack (expected 4)"
     ]
    }
   ],
   "source": [
    "import gym\n",
    "import numpy as np\n",
    "\n",
    "# Create the Frozen Lake environment\n",
    "env = gym.make('FrozenLake-v1', map_name=\"4x4\", is_slippery=False)\n",
    "\n",
    "# Initialize the Q-table with zeros\n",
    "q_table = np.zeros((env.observation_space.n, env.action_space.n))\n",
    "\n",
    "# Set the learning rate and discount factor\n",
    "alpha = 0.1\n",
    "gamma = 0.99\n",
    "\n",
    "# Set the number of episodes to run\n",
    "num_episodes = 100_000\n",
    "\n",
    "# Store rewards for all episodes\n",
    "total_rewards = np.zeros((num_episodes, 1))\n",
    "\n",
    "epsilon = 1.0\n",
    "\n",
    "decay_time = num_episodes // 10\n",
    "\n",
    "# Run Q-learning\n",
    "for i in range(num_episodes):\n",
    "    if i!=0 and i % decay_time == 0:\n",
    "        epsilon -= 0.1\n",
    "        print(f\"i = {i}\", f\"epsilon = {epsilon}\")\n",
    "    \n",
    "    # Reset the environment to the initial state\n",
    "    observation = env.reset()\n",
    "\n",
    "    # Initialize variables for the current episode\n",
    "    total_reward = 0\n",
    "    done = False\n",
    "\n",
    "    # Run the episode\n",
    "    while not done:\n",
    "        # Choose an action using an epsilon-greedy policy\n",
    "        if np.random.rand() < epsilon:\n",
    "            action = env.action_space.sample()\n",
    "        else:\n",
    "            action = np.argmax(q_table[observation])\n",
    "\n",
    "        # Take the action and observe the new state and reward\n",
    "        next_observation, reward, done, _ = env.step(action)\n",
    "\n",
    "        # Update the Q-table\n",
    "        q_table[observation][action] = (1 - alpha) * q_table[observation][action] + \\\n",
    "                                      alpha * (reward + gamma * np.max(q_table[next_observation]))\n",
    "\n",
    "        # Update the total reward and the current state\n",
    "        total_reward += reward\n",
    "        observation = next_observation\n",
    "        \n",
    "        \n",
    "    total_rewards[i] = total_reward"
   ]
  },
  {
   "cell_type": "code",
   "execution_count": null,
   "id": "9e8421a3-ba8b-40bc-b380-ea7013aac7f8",
   "metadata": {},
   "outputs": [],
   "source": []
  }
 ],
 "metadata": {
  "kernelspec": {
   "display_name": "Python 3 (ipykernel)",
   "language": "python",
   "name": "python3"
  },
  "language_info": {
   "codemirror_mode": {
    "name": "ipython",
    "version": 3
   },
   "file_extension": ".py",
   "mimetype": "text/x-python",
   "name": "python",
   "nbconvert_exporter": "python",
   "pygments_lexer": "ipython3",
   "version": "3.11.5"
  }
 },
 "nbformat": 4,
 "nbformat_minor": 5
}
